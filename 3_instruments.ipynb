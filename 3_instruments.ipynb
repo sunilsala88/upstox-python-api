{
 "cells": [
  {
   "cell_type": "code",
   "execution_count": null,
   "id": "0a261662",
   "metadata": {},
   "outputs": [],
   "source": [
    "import pandas as pd\n",
    "\n",
    "instruments=pd.read_json('https://assets.upstox.com/market-quote/instruments/exchange/NSE.json.gz')\n",
    "instruments.to_csv('data.csv')\n",
    "instruments['expiry']=pd.to_datetime(instruments['expiry'], unit='ms', errors='coerce')\n",
    "instruments['expiry']=instruments['expiry'].dt.date\n",
    "instruments['expiry']=pd.to_datetime(instruments['expiry'])\n",
    "instruments\n"
   ]
  },
  {
   "cell_type": "markdown",
   "id": "5550ab72",
   "metadata": {},
   "source": [
    "stock"
   ]
  },
  {
   "cell_type": "code",
   "execution_count": null,
   "id": "333bcfa6",
   "metadata": {},
   "outputs": [],
   "source": [
    "name='YESBANK'\n",
    "d=instruments[instruments['trading_symbol']==name]\n",
    "d['instrument_key'].squeeze()\n"
   ]
  },
  {
   "cell_type": "markdown",
   "id": "73007587",
   "metadata": {},
   "source": [
    "future"
   ]
  },
  {
   "cell_type": "code",
   "execution_count": null,
   "id": "246b3074",
   "metadata": {},
   "outputs": [],
   "source": [
    "name='HDFCBANK'\n",
    "d1=instruments[instruments['instrument_type']=='FUT']\n",
    "d2=d1[d1['underlying_symbol'].str.contains(name)]\n",
    "d2=d2.sort_values(by='expiry')\n",
    "\n",
    "#expiry list\n",
    "expiry_list=d2['expiry'].to_list()\n",
    "print(expiry_list)\n",
    "\n",
    "exp=pd.to_datetime('2025-06-26')\n",
    "d2[d2['expiry']==exp]['instrument_key'].squeeze()"
   ]
  },
  {
   "cell_type": "markdown",
   "id": "f3168100",
   "metadata": {},
   "source": [
    "option"
   ]
  },
  {
   "cell_type": "code",
   "execution_count": null,
   "id": "0b9a7386",
   "metadata": {},
   "outputs": [],
   "source": [
    "name='BANKNIFTY'\n",
    "i_type='CE'\n",
    "strike=56800\n",
    "exp=pd.to_datetime('2025-08-28')\n",
    "d1=instruments[(instruments['asset_symbol']==name) & (instruments['instrument_type']==i_type) & (instruments['strike_price']==strike)]\n",
    "#get all expiry\n",
    "d2=d1.sort_values(by='expiry')\n",
    "expiry_list=d2['expiry'].to_list()\n",
    "print(expiry_list)\n",
    "\n",
    "#get instrument\n",
    "d3=instruments[(instruments['asset_symbol']==name) & (instruments['instrument_type']==i_type) & (instruments['strike_price']==strike) & (instruments['expiry']==exp)]\n",
    "d3['instrument_key'].squeeze()"
   ]
  },
  {
   "cell_type": "markdown",
   "id": "995021fc",
   "metadata": {},
   "source": [
    "index"
   ]
  },
  {
   "cell_type": "code",
   "execution_count": null,
   "id": "783a77f7",
   "metadata": {},
   "outputs": [],
   "source": [
    "name='BANKNIFTY'\n",
    "# name='NIFTY'\n",
    "u_type='NSE_INDEX'\n",
    "d=instruments[(instruments['segment']==u_type) & (instruments['trading_symbol']==name)]\n",
    "d['instrument_key'].squeeze()"
   ]
  },
  {
   "cell_type": "markdown",
   "id": "6d313d6f",
   "metadata": {},
   "source": [
    "mcx commodity"
   ]
  },
  {
   "cell_type": "code",
   "execution_count": null,
   "id": "8b7907c9",
   "metadata": {},
   "outputs": [],
   "source": [
    "import pandas as pd\n",
    "\n",
    "instruments=pd.read_json('https://assets.upstox.com/market-quote/instruments/exchange/MCX.json.gz')\n",
    "instruments.to_csv('data.csv')\n",
    "instruments['expiry']=pd.to_datetime(instruments['expiry'], unit='ms', errors='coerce')\n",
    "instruments['expiry']=instruments['expiry'].dt.date\n",
    "instruments['expiry']=pd.to_datetime(instruments['expiry'])\n",
    "instruments\n"
   ]
  },
  {
   "cell_type": "markdown",
   "id": "7ff78605",
   "metadata": {},
   "source": [
    "mcx future"
   ]
  },
  {
   "cell_type": "code",
   "execution_count": null,
   "id": "981fd342",
   "metadata": {},
   "outputs": [],
   "source": [
    "name='CRUDEOIL'\n",
    "d1=instruments[instruments['instrument_type']=='FUT']\n",
    "d2=d1[d1['underlying_symbol'].str.contains(name)]\n",
    "d2=d2.sort_values(by='expiry')\n",
    "\n",
    "#expiry list\n",
    "expiry_list=d2['expiry'].to_list()\n",
    "print(expiry_list)\n",
    "\n",
    "exp=pd.to_datetime('2025-06-18')\n",
    "d2[d2['expiry']==exp]['instrument_key'].squeeze()"
   ]
  }
 ],
 "metadata": {
  "kernelspec": {
   "display_name": "Python 3",
   "language": "python",
   "name": "python3"
  },
  "language_info": {
   "codemirror_mode": {
    "name": "ipython",
    "version": 3
   },
   "file_extension": ".py",
   "mimetype": "text/x-python",
   "name": "python",
   "nbconvert_exporter": "python",
   "pygments_lexer": "ipython3",
   "version": "3.12.8"
  }
 },
 "nbformat": 4,
 "nbformat_minor": 5
}
